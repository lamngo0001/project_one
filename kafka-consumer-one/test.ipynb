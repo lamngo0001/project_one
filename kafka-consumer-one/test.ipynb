{
 "cells": [
  {
   "cell_type": "code",
   "execution_count": 8,
   "metadata": {},
   "outputs": [],
   "source": [
    "\n",
    "import sys\n",
    "import os\n",
    "from configparser import ConfigParser\n",
    "from confluent_kafka import Consumer#, OFFSET_BEGINNING"
   ]
  },
  {
   "cell_type": "code",
   "execution_count": 13,
   "metadata": {},
   "outputs": [],
   "source": [
    "CONFIG_FILE_NAME=\"config.ini\"\n",
    "TOPIC_NAME=\"test_topic\""
   ]
  },
  {
   "cell_type": "code",
   "execution_count": 14,
   "metadata": {},
   "outputs": [],
   "source": [
    "config_parser = ConfigParser()\n",
    "config_parser.read(CONFIG_FILE_NAME)\n",
    "config = dict(config_parser['default'])\n",
    "config.update(config_parser['consumer'])"
   ]
  },
  {
   "cell_type": "code",
   "execution_count": 17,
   "metadata": {},
   "outputs": [
    {
     "ename": "TypeError",
     "evalue": "'offset' is an invalid keyword argument for this function",
     "output_type": "error",
     "traceback": [
      "\u001b[1;31m---------------------------------------------------------------------------\u001b[0m",
      "\u001b[1;31mTypeError\u001b[0m                                 Traceback (most recent call last)",
      "\u001b[1;32mc:\\Users\\Nic\\Desktop\\Graph_Workspace\\kafka\\test.ipynb Cell 4\u001b[0m in \u001b[0;36m<cell line: 2>\u001b[1;34m()\u001b[0m\n\u001b[0;32m      <a href='vscode-notebook-cell:/c%3A/Users/Nic/Desktop/Graph_Workspace/kafka/test.ipynb#ch0000003?line=0'>1</a>\u001b[0m consumer \u001b[39m=\u001b[39m Consumer(config)\n\u001b[1;32m----> <a href='vscode-notebook-cell:/c%3A/Users/Nic/Desktop/Graph_Workspace/kafka/test.ipynb#ch0000003?line=1'>2</a>\u001b[0m consumer\u001b[39m.\u001b[39;49msubscribe([TOPIC_NAME], offset\u001b[39m=\u001b[39;49m\u001b[39m0\u001b[39;49m)\n",
      "\u001b[1;31mTypeError\u001b[0m: 'offset' is an invalid keyword argument for this function"
     ]
    }
   ],
   "source": [
    "consumer = Consumer(config)\n",
    "consumer.subscribe([TOPIC_NAME], offset=0)"
   ]
  },
  {
   "cell_type": "code",
   "execution_count": 16,
   "metadata": {},
   "outputs": [
    {
     "name": "stdout",
     "output_type": "stream",
     "text": [
      "Waiting...\n"
     ]
    }
   ],
   "source": [
    "while True:\n",
    "    msg = consumer.poll(1.0)\n",
    "    if msg is None:\n",
    "        # Initial message consumption may take up to\n",
    "        # `session.timeout.ms` for the consumer group to\n",
    "        # rebalance and start consuming\n",
    "        print(\"Waiting...\")\n",
    "        break\n",
    "    elif msg.error():\n",
    "        print(\"ERROR: %s\".format(msg.error()))\n",
    "    else:\n",
    "        # Extract the (optional) key and value, and print.\n",
    "        print(\"Offset:\")\n",
    "        print(\"Consumed event from topic {topic}: key = {key:12} value = {value:12} offset = {offset}\".format(\n",
    "            topic=msg.topic(), \n",
    "            key=msg.key().decode('utf-8'), \n",
    "            value=msg.value().decode('utf-8'), \n",
    "            offset=msg.offset()))"
   ]
  },
  {
   "cell_type": "code",
   "execution_count": null,
   "metadata": {},
   "outputs": [],
   "source": []
  }
 ],
 "metadata": {
  "kernelspec": {
   "display_name": "Python 3.9.13 64-bit",
   "language": "python",
   "name": "python3"
  },
  "language_info": {
   "codemirror_mode": {
    "name": "ipython",
    "version": 3
   },
   "file_extension": ".py",
   "mimetype": "text/x-python",
   "name": "python",
   "nbconvert_exporter": "python",
   "pygments_lexer": "ipython3",
   "version": "3.9.13"
  },
  "orig_nbformat": 4,
  "vscode": {
   "interpreter": {
    "hash": "21ad4c6607d23252cc604b9862e37b6dc83ffcc85b33a8ec88a5acad6f2fac83"
   }
  }
 },
 "nbformat": 4,
 "nbformat_minor": 2
}
